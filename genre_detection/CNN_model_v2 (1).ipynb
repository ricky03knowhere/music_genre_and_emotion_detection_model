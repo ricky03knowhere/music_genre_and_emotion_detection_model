{
  "cells": [
    {
      "cell_type": "code",
      "execution_count": null,
      "metadata": {
        "id": "Fbrvsew6Oeiu"
      },
      "outputs": [],
      "source": [
        "import json\n",
        "import numpy as np\n",
        "import matplotlib.pyplot as plt\n",
        "import tensorflow.keras as keras\n",
        "from tensorflow.keras.models import Sequential\n",
        "from sklearn.model_selection import train_test_split\n",
        "from tensorflow.keras.callbacks import ReduceLROnPlateau\n",
        "from tensorflow.keras.layers import (\n",
        "    Activation,\n",
        "    Input,\n",
        "    Dense,\n",
        "    Flatten,\n",
        "    Dropout,\n",
        "    Conv2D,\n",
        "    MaxPooling2D,\n",
        "    BatchNormalization,\n",
        ")\n",
        "from tensorflow.keras.utils import to_categorical\n"
      ]
    },
    {
      "cell_type": "code",
      "execution_count": null,
      "metadata": {
        "colab": {
          "base_uri": "https://localhost:8080/"
        },
        "id": "3G6RVdHvQwFU",
        "outputId": "5cdc91af-040b-4be0-e46d-d19058ab550e"
      },
      "outputs": [
        {
          "name": "stdout",
          "output_type": "stream",
          "text": [
            "Mounted at /content/drive\n"
          ]
        }
      ],
      "source": [
        "from google.colab import drive\n",
        "drive.mount('/content/drive')"
      ]
    },
    {
      "cell_type": "code",
      "execution_count": 1,
      "metadata": {
        "colab": {
          "base_uri": "https://localhost:8080/"
        },
        "id": "ZGfctBm6QwFc",
        "outputId": "ae44ec93-44d7-473b-8eff-dced4815295a"
      },
      "outputs": [
        {
          "name": "stdout",
          "output_type": "stream",
          "text": [
            "[WinError 3] The system cannot find the path specified: '/content/drive/My Drive/Projects/genre_detection'\n",
            "d:\\programs\\TA_projects\\model_production\\genre_detection\n"
          ]
        },
        {
          "name": "stderr",
          "output_type": "stream",
          "text": [
            "C:\\Users\\Ricky\\AppData\\Roaming\\Python\\Python311\\site-packages\\IPython\\core\\magics\\osm.py:393: UserWarning: This is now an optional IPython functionality, using bookmarks requires you to install the `pickleshare` library.\n",
            "  bkms = self.shell.db.get('bookmarks', {})\n"
          ]
        }
      ],
      "source": [
        "%cd /content/drive/My Drive/Projects/genre_detection"
      ]
    },
    {
      "cell_type": "markdown",
      "metadata": {
        "id": "ZX955oU_Oeiz"
      },
      "source": [
        "### Functions ✨"
      ]
    },
    {
      "cell_type": "code",
      "execution_count": null,
      "metadata": {
        "id": "I3J41ZM_Oei1"
      },
      "outputs": [],
      "source": [
        "def plot_history(history):\n",
        "    fig, axs = plt.subplots(2)\n",
        "\n",
        "    # accuracy subplot\n",
        "    axs[0].plot(history.history[\"accuracy\"], label=\"train accuracy\")\n",
        "    axs[0].plot(history.history[\"val_accuracy\"], label=\"test accuracy\")\n",
        "    axs[0].set_ylabel(\"Accuracy\")\n",
        "    axs[0].legend(loc=\"lower right\")\n",
        "    axs[0].set_title(\"Accuracy level\")\n",
        "\n",
        "    # error subplot\n",
        "    axs[1].plot(history.history[\"loss\"], label=\"train error\")\n",
        "    axs[1].plot(history.history[\"val_loss\"], label=\"test error\")\n",
        "    axs[1].set_ylabel(\"Error\")\n",
        "    axs[1].set_xlabel(\"Epoch\")\n",
        "    axs[1].legend(loc=\"upper right\")\n",
        "    axs[1].set_title(\"Error eval\")\n",
        "\n",
        "    plt.show()\n",
        "\n",
        "    plt.figure(figsize=(15,7))\n",
        "\n",
        "    plt.subplot(1,2,1)\n",
        "    plt.plot(history.history['accuracy'], label='train')\n",
        "    plt.plot(history.history['val_accuracy'], label='validation')\n",
        "    plt.title('Accuracy')\n",
        "    plt.xlabel('Epochs')\n",
        "    plt.ylabel('Accuracy')\n",
        "    plt.legend()\n",
        "\n",
        "    plt.subplot(1,2,2)\n",
        "    plt.plot(history.history['loss'], label='train')\n",
        "    plt.plot(history.history['val_loss'], label='validation')\n",
        "    plt.title('Loss')\n",
        "    plt.xlabel('Epochs')\n",
        "    plt.ylabel('Loss')\n",
        "    plt.legend()\n",
        "\n",
        "    plt.tight_layout()\n",
        "    plt.show()\n",
        "\n",
        "def build_model(input_shape):\n",
        "    model = Sequential(\n",
        "        [\n",
        "            Conv2D(\n",
        "                16,\n",
        "                (3, 3),\n",
        "                strides=(1, 1),\n",
        "                activation=\"relu\",\n",
        "                input_shape=input_shape,\n",
        "                padding=\"same\",\n",
        "            ),\n",
        "            MaxPooling2D((2, 2), strides=(2, 2)),\n",
        "            BatchNormalization(),\n",
        "            Dropout(0.4),\n",
        "            Conv2D(32, (3, 3), strides=(1, 1), padding=\"same\", activation=\"relu\"),\n",
        "            MaxPooling2D((2, 2), strides=(2, 2), padding=\"same\"),\n",
        "            BatchNormalization(),\n",
        "            Dropout(0.4),\n",
        "            Conv2D(64, (3, 3), strides=(1, 1), padding=\"same\", activation=\"relu\",),\n",
        "            MaxPooling2D((2, 2), strides=(2, 2), padding=\"same\"),\n",
        "            BatchNormalization(),\n",
        "            Dropout(0.4),\n",
        "            Conv2D(128, (3, 3), strides=(1, 1), padding=\"same\", activation=\"relu\"),\n",
        "            MaxPooling2D((2, 2), strides=(2, 2), padding=\"same\"),\n",
        "            BatchNormalization(),\n",
        "            Dropout(0.4),\n",
        "            Conv2D(256, (3, 3), strides=(1, 1), padding=\"same\", activation=\"relu\"),\n",
        "            MaxPooling2D((2, 2), strides=(2, 2), padding=\"same\"),\n",
        "            BatchNormalization(),\n",
        "            Dropout(0.4),\n",
        "            Conv2D(512, (3, 3), strides=(1, 1), padding=\"same\", activation=\"relu\"),\n",
        "            MaxPooling2D((2, 2), strides=(2, 2), padding=\"same\"),\n",
        "            BatchNormalization(),\n",
        "            Dropout(0.4),\n",
        "            Flatten(),\n",
        "            Dropout(0.5),\n",
        "            Dense(\n",
        "                128, activation=\"relu\", kernel_regularizer=keras.regularizers.l2(0.002)\n",
        "            ),\n",
        "            Dropout(0.3),\n",
        "            Dense(\n",
        "                10, activation=\"softmax\", kernel_regularizer=keras.regularizers.l2(0.002)\n",
        "            ),\n",
        "        ]\n",
        "    )\n",
        "    return model\n",
        "\n",
        "\n",
        "def predict(model, X, y):\n",
        "    X = X[np.newaxis, ...]\n",
        "    print('X ==>', X.shape)\n",
        "    prediction = model.predict(X)\n",
        "    predicted_index = np.argmax(prediction, axis=1)\n",
        "    print('prediction ==> ',prediction)\n",
        "\n",
        "    print(\"Target: {}, Predicted label: {}\".format(y, predicted_index))"
      ]
    },
    {
      "cell_type": "markdown",
      "metadata": {
        "id": "5tDvQGOqOei3"
      },
      "source": [
        "### Load Dataset 🧪"
      ]
    },
    {
      "cell_type": "code",
      "execution_count": null,
      "metadata": {
        "colab": {
          "base_uri": "https://localhost:8080/"
        },
        "id": "fJWCRQU4Oei4",
        "outputId": "d7e323a6-c748-4925-8d74-34786cb9bfe6"
      },
      "outputs": [
        {
          "name": "stdout",
          "output_type": "stream",
          "text": [
            "Data successfully loaded!\n",
            "X shape ==> (9986, 259, 13)\n",
            "X_test ==> (2497, 259, 13)\n",
            "(2497, 259, 13, 1)\n",
            "(5991, 259, 13, 1)\n",
            "(259, 13, 1)\n"
          ]
        }
      ],
      "source": [
        "classes = ['blues', 'classical','country','disco','hiphop','jazz','metal','pop','reggae','rock']\n",
        "\n",
        "data = np.load('X_train.npy')\n",
        "labels = np.load('y_train.npy')\n",
        "\n",
        "labels = to_categorical(labels, num_classes=len(classes))\n",
        "\n",
        "X_train, X_test, y_train, y_test = train_test_split(data, labels, test_size=0.2, random_state=42)"
      ]
    },
    {
      "cell_type": "code",
      "execution_count": null,
      "metadata": {
        "colab": {
          "base_uri": "https://localhost:8080/"
        },
        "id": "uOzklzz9Oei5",
        "outputId": "136bc64c-7720-45f6-a683-89e607291590"
      },
      "outputs": [
        {
          "name": "stdout",
          "output_type": "stream",
          "text": [
            "(259, 13, 1)\n"
          ]
        }
      ],
      "source": [
        "input_shape =X_train[0].shape\n",
        "print(input_shape)"
      ]
    },
    {
      "cell_type": "markdown",
      "metadata": {
        "id": "3nu9yPrJOei6"
      },
      "source": [
        "### Create Model 🔨"
      ]
    },
    {
      "cell_type": "code",
      "execution_count": null,
      "metadata": {
        "id": "p44UmkkiOei6"
      },
      "outputs": [],
      "source": [
        "model = build_model(input_shape)\n",
        "\n",
        "optimizer = keras.optimizers.Adam(learning_rate=0.0005)\n",
        "\n",
        "\n",
        "model.compile(\n",
        "    optimizer=optimizer, loss=\"categorical_crossentropy\", metrics=[\"accuracy\"]\n",
        ")\n",
        "\n",
        "model.summary()"
      ]
    },
    {
      "cell_type": "markdown",
      "metadata": {
        "id": "L0LU_UMzOei6"
      },
      "source": [
        "### Compile Model 🚀"
      ]
    },
    {
      "cell_type": "code",
      "execution_count": null,
      "metadata": {
        "colab": {
          "base_uri": "https://localhost:8080/",
          "height": 773
        },
        "id": "MwCykME-Oei7",
        "outputId": "715922d8-ac15-4aa0-96a8-53c44037dbeb"
      },
      "outputs": [],
      "source": [
        "reduceLROnPlat = ReduceLROnPlateau(\n",
        "    monitor=\"val_loss\",\n",
        "    factor=0.97,\n",
        "    patience=3,\n",
        "    verbose=1,\n",
        "    mode=\"min\",\n",
        "    min_delta=0.0001,\n",
        "    cooldown=2,\n",
        "    min_lr=1e-10,\n",
        ")\n",
        "\n",
        "history = model.fit(\n",
        "    X_train,\n",
        "    y_train,\n",
        "    validation_data=(X_validation, y_validation),\n",
        "    batch_size=16,\n",
        "    epochs=300,\n",
        "    callbacks=[reduceLROnPlat],\n",
        ")"
      ]
    },
    {
      "cell_type": "markdown",
      "metadata": {
        "id": "duCKn3S1Oei7"
      },
      "source": [
        "### Evaluate Model 📐  "
      ]
    },
    {
      "cell_type": "code",
      "execution_count": null,
      "metadata": {
        "id": "w0nDVI55Oei7"
      },
      "outputs": [],
      "source": [
        "plot_history(history)\n",
        "\n",
        "test_loss, test_acc = model.evaluate(X_test, y_test, verbose=2)\n",
        "\n",
        "print(\"\\nTest Accuracy:\", test_acc)"
      ]
    },
    {
      "cell_type": "code",
      "execution_count": null,
      "metadata": {
        "colab": {
          "base_uri": "https://localhost:8080/"
        },
        "id": "askDiEdWOei8",
        "outputId": "d42620f2-107e-48a6-8b55-31394b5771bc"
      },
      "outputs": [
        {
          "name": "stdout",
          "output_type": "stream",
          "text": [
            "X ==> (1, 150, 150, 1)\n",
            "1/1 [==============================] - 0s 28ms/step\n",
            "prediction ==>  [[1.2724632e-06 3.7919943e-07 9.9405003e-01 2.2347156e-07 4.3064734e-08\n",
            "  2.4481847e-06 2.6876128e-06 4.2405711e-07 2.5324507e-05 5.9172669e-03]]\n",
            "Target: [0. 0. 1. 0. 0. 0. 0. 0. 0. 0.], Predicted label: [2]\n"
          ]
        }
      ],
      "source": [
        "from tensorflow.keras.models import load_model\n",
        "X_to_predict = X_test[731]\n",
        "y_to_predict = y_test[731]\n",
        "\n",
        "# model = load_model('cnn__genre_detection.h5')\n",
        "# print(X_test.shape)\n",
        "# print(X_to_predict)\n",
        "# print(X_to_predict.shape)\n",
        "predict(model, X_to_predict, y_to_predict)"
      ]
    },
    {
      "cell_type": "code",
      "execution_count": null,
      "metadata": {
        "colab": {
          "base_uri": "https://localhost:8080/",
          "height": 347
        },
        "id": "7Br0DZBVOei8",
        "outputId": "f49d5edc-dd27-4e38-bce1-3bc96d21f26b"
      },
      "outputs": [],
      "source": [
        "def majority_vote(scores):\n",
        "    values, counts = np.unique(scores, return_counts=True)\n",
        "    ind = np.argmax(counts)\n",
        "    return values[ind]\n",
        "\n",
        "\n",
        "preds = model.predict(X_test, batch_size=128, verbose=0)\n",
        "# print(preds.shape)\n",
        "# Each sound was divided into 39 segments in our custom function\n",
        "scores_songs = np.split(np.argmax(preds, axis=1), 2497)\n",
        "# print(scores_songs)\n",
        "\n",
        "scores_songs = [majority_vote(scores) for scores in scores_songs]\n",
        "# Same analysis for split\n",
        "# print(y_test.shape)\n",
        "label = np.split(y_test, 2497)\n",
        "label = [majority_vote(l) for l in label]\n",
        "from sklearn.metrics import accuracy_score\n",
        "\n",
        "print(\n",
        "    \"majority voting system (acc) = {:.3f}\".format(accuracy_score(label, scores_songs))\n",
        ")"
      ]
    },
    {
      "cell_type": "markdown",
      "metadata": {
        "id": "-uNkVq7TOei8"
      },
      "source": [
        "### Save Model 💾"
      ]
    },
    {
      "cell_type": "code",
      "execution_count": null,
      "metadata": {
        "id": "9YDToQftOei9"
      },
      "outputs": [],
      "source": [
        "model.save('cnn__genre_detection_41100hz_0.95.h5')"
      ]
    }
  ],
  "metadata": {
    "accelerator": "GPU",
    "colab": {
      "gpuType": "T4",
      "provenance": [],
      "toc_visible": true
    },
    "kernelspec": {
      "display_name": "Python 3",
      "name": "python3"
    },
    "language_info": {
      "codemirror_mode": {
        "name": "ipython",
        "version": 3
      },
      "file_extension": ".py",
      "mimetype": "text/x-python",
      "name": "python",
      "nbconvert_exporter": "python",
      "pygments_lexer": "ipython3",
      "version": "3.11.5"
    }
  },
  "nbformat": 4,
  "nbformat_minor": 0
}
