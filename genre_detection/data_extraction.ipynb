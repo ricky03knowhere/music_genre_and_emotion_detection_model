{
 "cells": [
  {
   "cell_type": "code",
   "execution_count": null,
   "metadata": {},
   "outputs": [],
   "source": [
    "from google.colab import drive\n",
    "drive.mount('/content/drive')"
   ]
  },
  {
   "cell_type": "code",
   "execution_count": null,
   "metadata": {},
   "outputs": [],
   "source": [
    "%cd /content/drive/My Drive/Projects/genre_detection"
   ]
  },
  {
   "cell_type": "code",
   "execution_count": null,
   "metadata": {},
   "outputs": [],
   "source": [
    "# Load and preprocess audio data\n",
    "def load_and_preprocess_data(data_dir, classes, target_shape=(150, 150)):\n",
    "    data = []\n",
    "    labels = []\n",
    "    \n",
    "    for i_class, class_name in enumerate(classes):\n",
    "        class_dir = os.path.join(data_dir, class_name)\n",
    "        print(\"Processing--\",class_name)\n",
    "        for filename in os.listdir(class_dir):\n",
    "            if filename.endswith('.wav'):\n",
    "                file_path = os.path.join(class_dir, filename)\n",
    "                audio_data, sample_rate = librosa.load(file_path, sr=None)\n",
    "                # Perform preprocessing (e.g., convert to Mel spectrogram and resize)\n",
    "                # Define the duration of each chunk and overlap\n",
    "                chunk_duration = 4  # seconds\n",
    "                overlap_duration = 2  # seconds\n",
    "                \n",
    "                # Convert durations to samples\n",
    "                chunk_samples = chunk_duration * sample_rate\n",
    "                overlap_samples = overlap_duration * sample_rate\n",
    "                \n",
    "                # Calculate the number of chunks\n",
    "                num_chunks = int(np.ceil((len(audio_data) - chunk_samples) / (chunk_samples - overlap_samples))) + 1\n",
    "                \n",
    "                # Iterate over each chunk\n",
    "                for i in range(num_chunks):\n",
    "                    # Calculate start and end indices of the chunk\n",
    "                    start = i * (chunk_samples - overlap_samples)\n",
    "                    end = start + chunk_samples\n",
    "                    \n",
    "                    # Extract the chunk of audio\n",
    "                    chunk = audio_data[start:end]\n",
    "                    \n",
    "                    # Compute the Mel spectrogram for the chunk\n",
    "                    mel_spectrogram = librosa.feature.melspectrogram(y=chunk, sr=sr)\n",
    "                    \n",
    "                    mel_spectrogram = resize(np.expand_dims(mel_spectrogram, axis=-1), target_shape)\n",
    "                    data.append(mel_spectrogram)\n",
    "                    labels.append(i_class)\n",
    "    \n",
    "    np.save(\"X_train.npy\",  np.array(data))\n",
    "    np.save(\"y_train.npy\",   np.array(labels))"
   ]
  },
  {
   "cell_type": "code",
   "execution_count": null,
   "metadata": {},
   "outputs": [],
   "source": [
    "data_dir = './Data/genres_original'\n",
    "classes = ['blues', 'classical','country','disco','hiphop','jazz','metal','pop','reggae','rock']\n",
    "\n",
    "load_and_preprocess_data(data_dir, classes)"
   ]
  }
 ],
 "metadata": {
  "language_info": {
   "name": "python"
  }
 },
 "nbformat": 4,
 "nbformat_minor": 2
}
